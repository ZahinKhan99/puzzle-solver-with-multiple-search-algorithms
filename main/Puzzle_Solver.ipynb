{
  "nbformat": 4,
  "nbformat_minor": 0,
  "metadata": {
    "colab": {
      "provenance": []
    },
    "kernelspec": {
      "name": "python3",
      "display_name": "Python 3"
    },
    "language_info": {
      "name": "python"
    }
  },
  "cells": [
    {
      "cell_type": "code",
      "execution_count": null,
      "metadata": {
        "colab": {
          "base_uri": "https://localhost:8080/",
          "height": 332
        },
        "id": "eitmxixLNeJJ",
        "outputId": "34668fb1-dbbc-47ef-93fc-8617f710374c"
      },
      "outputs": [
        {
          "output_type": "error",
          "ename": "NameError",
          "evalue": "name 'start' is not defined",
          "traceback": [
            "\u001b[0;31m---------------------------------------------------------------------------\u001b[0m",
            "\u001b[0;31mNameError\u001b[0m                                 Traceback (most recent call last)",
            "\u001b[0;32m/tmp/ipython-input-1-3943572996.py\u001b[0m in \u001b[0;36m<cell line: 0>\u001b[0;34m()\u001b[0m\n\u001b[1;32m     59\u001b[0m ]\n\u001b[1;32m     60\u001b[0m \u001b[0;34m\u001b[0m\u001b[0m\n\u001b[0;32m---> 61\u001b[0;31m \u001b[0msolution\u001b[0m \u001b[0;34m=\u001b[0m \u001b[0mbfs\u001b[0m\u001b[0;34m(\u001b[0m\u001b[0minitial_state\u001b[0m\u001b[0;34m,\u001b[0m \u001b[0mgoal_state\u001b[0m\u001b[0;34m)\u001b[0m\u001b[0;34m\u001b[0m\u001b[0;34m\u001b[0m\u001b[0m\n\u001b[0m\u001b[1;32m     62\u001b[0m \u001b[0;34m\u001b[0m\u001b[0m\n\u001b[1;32m     63\u001b[0m \u001b[0;32mif\u001b[0m \u001b[0msolution\u001b[0m\u001b[0;34m:\u001b[0m\u001b[0;34m\u001b[0m\u001b[0;34m\u001b[0m\u001b[0m\n",
            "\u001b[0;32m/tmp/ipython-input-1-3943572996.py\u001b[0m in \u001b[0;36mbfs\u001b[0;34m(initial_state, goal_state)\u001b[0m\n\u001b[1;32m     32\u001b[0m     \u001b[0mqueue\u001b[0m \u001b[0;34m=\u001b[0m \u001b[0mdeque\u001b[0m\u001b[0;34m(\u001b[0m\u001b[0;34m)\u001b[0m\u001b[0;34m\u001b[0m\u001b[0;34m\u001b[0m\u001b[0m\n\u001b[1;32m     33\u001b[0m \u001b[0;34m\u001b[0m\u001b[0m\n\u001b[0;32m---> 34\u001b[0;31m     \u001b[0mvisited\u001b[0m\u001b[0;34m.\u001b[0m\u001b[0madd\u001b[0m\u001b[0;34m(\u001b[0m\u001b[0mstart\u001b[0m\u001b[0;34m)\u001b[0m\u001b[0;34m\u001b[0m\u001b[0;34m\u001b[0m\u001b[0m\n\u001b[0m\u001b[1;32m     35\u001b[0m     \u001b[0mqueue\u001b[0m\u001b[0;34m.\u001b[0m\u001b[0mappend\u001b[0m\u001b[0;34m(\u001b[0m\u001b[0mstart\u001b[0m\u001b[0;34m)\u001b[0m\u001b[0;34m\u001b[0m\u001b[0;34m\u001b[0m\u001b[0m\n\u001b[1;32m     36\u001b[0m \u001b[0;34m\u001b[0m\u001b[0m\n",
            "\u001b[0;31mNameError\u001b[0m: name 'start' is not defined"
          ]
        }
      ],
      "source": [
        "from collections import deque\n",
        "\n",
        "MOVES = {\n",
        "    \"Up\": (-1, 0),\n",
        "    \"Down\": (1, 0),\n",
        "    \"Left\": (0, -1),\n",
        "    \"Right\": (0, 1)\n",
        "}\n",
        "\n",
        "def get_blank_position(state):\n",
        "    for i in range(3):\n",
        "        for j in range(3):\n",
        "            if state[i][j] == 0:\n",
        "                return i, j\n",
        "\n",
        "def generate_neighbors(state):\n",
        "    neighbors = []\n",
        "    x, y = get_blank_position(state)\n",
        "\n",
        "    for move, (dx, dy) in MOVES.items():\n",
        "        new_x, new_y = x + dx, y + dy\n",
        "        if 0 <= new_x < 3 and 0 <= new_y < 3:       # 3x3 puzzle\n",
        "            new_state = [row[:] for row in state]   # Copy state\n",
        "            # Swaping blank with adjacent tile\n",
        "            new_state[x][y], new_state[new_x][new_y] = new_state[new_x][new_y], new_state[x][y]\n",
        "            neighbors.append((new_state, move))\n",
        "\n",
        "    return neighbors\n",
        "\n",
        "def bfs(initial_state, goal_state):\n",
        "    visited = set()  # To keep track of visited nodes\n",
        "    queue = deque()\n",
        "\n",
        "    visited.add(start)\n",
        "    queue.append(start)\n",
        "\n",
        "    while queue:\n",
        "        node = queue.popleft()\n",
        "\n",
        "        if state == goal_state:\n",
        "            return path\n",
        "\n",
        "        state_tuple = tuple(tuple(row) for row in state)  # to convert to tuple\n",
        "        if state_tuple in visited:\n",
        "            continue\n",
        "        visited.add(state_tuple)\n",
        "\n",
        "#Example\n",
        "initial_state = [\n",
        "    [1, 2, 3],\n",
        "    [4, 0, 5],\n",
        "    [6, 7, 8]\n",
        "]\n",
        "\n",
        "goal_state = [\n",
        "    [1, 2, 3],\n",
        "    [4, 5, 6],\n",
        "    [7, 8, 0]\n",
        "]\n",
        "\n",
        "solution = bfs(initial_state, goal_state)\n",
        "\n",
        "if solution:\n",
        "    print(f\"Solution found in {len(solution)} moves: {solution}\")\n",
        "else:\n",
        "    print(\"No solution exists.\")\n"
      ]
    }
  ]
}